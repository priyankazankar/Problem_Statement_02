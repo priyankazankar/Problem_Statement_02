{
 "cells": [
  {
   "cell_type": "markdown",
   "id": "00d15b64",
   "metadata": {},
   "source": [
    "# PROBLEM STATEMENTS"
   ]
  },
  {
   "cell_type": "markdown",
   "id": "963af3f2",
   "metadata": {},
   "source": [
    "### 1: Write a program to add two lists index-wise. Create a new list that contains the 0th index item from both the list, then the 1st index item, and so on till the last element. any leftover items will get added at the end of the new list."
   ]
  },
  {
   "cell_type": "code",
   "execution_count": 1,
   "id": "b00e31bb",
   "metadata": {},
   "outputs": [
    {
     "name": "stdout",
     "output_type": "stream",
     "text": [
      "display list 1\n",
      "['M', 'na', 'i', 'Priya']\n",
      "\n",
      "display list 2\n",
      "['y', 'me', 's', 'nka']\n",
      "\n",
      "In simple sentence\n",
      "My name is Priyanka \n",
      "\n",
      "FINAL OUTPUT \n",
      "['My', 'name', 'is', 'Priyanka']\n"
     ]
    }
   ],
   "source": [
    "list1=[\"M\",\"na\",\"i\",\"Priya\"]       \n",
    "list2=[\"y\",\"me\",\"s\",\"nka\"]\n",
    "print(\"display list 1\")\n",
    "print(list1)\n",
    "print(\"\\ndisplay list 2\")\n",
    "print(list2)\n",
    "res_list=[]\n",
    "print(\"\\nIn simple sentence\")\n",
    "for i in range(0,len(list1)):\n",
    "    listindex=list1[i]+list2[i]\n",
    "    print(listindex,end=\" \")\n",
    "    i=i+1\n",
    "print(\"\\n\")    \n",
    "print(\"FINAL OUTPUT \")\n",
    "for i in range(0, len(list1)):\n",
    "    res_list.append(list1[i] + list2[i])\n",
    "print(res_list)\n",
    "    \n"
   ]
  },
  {
   "cell_type": "markdown",
   "id": "291a0a56",
   "metadata": {},
   "source": [
    "### 2:Given a list of numbers. write a program to turn every item of a list into its square.\n"
   ]
  },
  {
   "cell_type": "code",
   "execution_count": 5,
   "id": "35be262c",
   "metadata": {},
   "outputs": [
    {
     "name": "stdout",
     "output_type": "stream",
     "text": [
      "\n",
      " Square of List\n",
      "[4, 9, 25, 36, 16, 9, 81]\n"
     ]
    }
   ],
   "source": [
    "# program to turn every item of a list into its square\n",
    "sq=[2,3,5,6,4,3,9]\n",
    "res_list1=[]\n",
    "for i in range(0, len(sq)):\n",
    "    res_list1.append(sq[i]*sq[i])\n",
    "print(\"\\n Square of List\")\n",
    "print(res_list1)"
   ]
  },
  {
   "cell_type": "markdown",
   "id": "9c5b5e1f",
   "metadata": {},
   "source": [
    "### 3:Given an unsorted list of some elements(may or may not be integers), Find the frequency of each distinct element in the list using a dictionary.¶"
   ]
  },
  {
   "cell_type": "code",
   "execution_count": 3,
   "id": "e02c8dd3",
   "metadata": {},
   "outputs": [
    {
     "name": "stdout",
     "output_type": "stream",
     "text": [
      "Frequency of elements--->\n",
      "{1: 2, 2: 3, 3: 3, 4: 5, 5: 4, 6: 2, 7: 2, 8: 2, 9: 1, 55: 1}\n"
     ]
    }
   ],
   "source": [
    "# Python program to count the frequency of elements in a list using a dictionary\n",
    "def Count_Freq(count_list):\n",
    "    count = {}\n",
    "    for i in count_list:\n",
    "        count[i] = count.get(i, 0) + 1\n",
    "    return count\n",
    "\n",
    "count_list =[1,2,3,4,5,4,3,2,1,2,3,4,5,6,7,8,9,8,7,6,5,4,5,4,55]\n",
    "print(\"Frequency of elements--->\")\n",
    "print(Count_Freq(count_list))\n"
   ]
  },
  {
   "cell_type": "markdown",
   "id": "6ea8c10d",
   "metadata": {},
   "source": [
    "### 4:Given a string S of lower case characters. The task is to check whether a the given string is Heterogram or not."
   ]
  },
  {
   "cell_type": "code",
   "execution_count": 4,
   "id": "a7d3cd9b",
   "metadata": {},
   "outputs": [
    {
     "name": "stdout",
     "output_type": "stream",
     "text": [
      "No\n"
     ]
    }
   ],
   "source": [
    "def heterogram(input_string):\n",
    "    # the replace function is an inbuild func used on string\n",
    "    # syntax string.replace('old_string','new_string')\n",
    "    str_without_spaces = input_string.replace(' ','') #replacing spaces with nothing \n",
    "    set_string = set(str_without_spaces)\n",
    "    if len(str_without_spaces) == len(set_string):\n",
    "        print(\"Yes\")\n",
    "    else:\n",
    "        print(\"No\")\n",
    "input_str = \"This is a test string\"\n",
    "heterogram(input_str)"
   ]
  },
  {
   "cell_type": "code",
   "execution_count": null,
   "id": "18a3a8f8",
   "metadata": {},
   "outputs": [],
   "source": []
  }
 ],
 "metadata": {
  "kernelspec": {
   "display_name": "Python 3 (ipykernel)",
   "language": "python",
   "name": "python3"
  },
  "language_info": {
   "codemirror_mode": {
    "name": "ipython",
    "version": 3
   },
   "file_extension": ".py",
   "mimetype": "text/x-python",
   "name": "python",
   "nbconvert_exporter": "python",
   "pygments_lexer": "ipython3",
   "version": "3.9.12"
  }
 },
 "nbformat": 4,
 "nbformat_minor": 5
}
